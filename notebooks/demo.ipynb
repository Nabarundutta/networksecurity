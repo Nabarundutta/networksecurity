{
 "cells": [
  {
   "cell_type": "code",
   "execution_count": 1,
   "id": "9148c727",
   "metadata": {},
   "outputs": [],
   "source": [
    "import pandas as pd"
   ]
  },
  {
   "cell_type": "code",
   "execution_count": 4,
   "id": "b50706a0",
   "metadata": {},
   "outputs": [
    {
     "name": "stdout",
     "output_type": "stream",
     "text": [
      "<class 'pandas.core.frame.DataFrame'>\n",
      "RangeIndex: 11055 entries, 0 to 11054\n",
      "Data columns (total 31 columns):\n",
      " #   Column                       Non-Null Count  Dtype\n",
      "---  ------                       --------------  -----\n",
      " 0   having_IP_Address            11055 non-null  int64\n",
      " 1   URL_Length                   11055 non-null  int64\n",
      " 2   Shortining_Service           11055 non-null  int64\n",
      " 3   having_At_Symbol             11055 non-null  int64\n",
      " 4   double_slash_redirecting     11055 non-null  int64\n",
      " 5   Prefix_Suffix                11055 non-null  int64\n",
      " 6   having_Sub_Domain            11055 non-null  int64\n",
      " 7   SSLfinal_State               11055 non-null  int64\n",
      " 8   Domain_registeration_length  11055 non-null  int64\n",
      " 9   Favicon                      11055 non-null  int64\n",
      " 10  port                         11055 non-null  int64\n",
      " 11  HTTPS_token                  11055 non-null  int64\n",
      " 12  Request_URL                  11055 non-null  int64\n",
      " 13  URL_of_Anchor                11055 non-null  int64\n",
      " 14  Links_in_tags                11055 non-null  int64\n",
      " 15  SFH                          11055 non-null  int64\n",
      " 16  Submitting_to_email          11055 non-null  int64\n",
      " 17  Abnormal_URL                 11055 non-null  int64\n",
      " 18  Redirect                     11055 non-null  int64\n",
      " 19  on_mouseover                 11055 non-null  int64\n",
      " 20  RightClick                   11055 non-null  int64\n",
      " 21  popUpWidnow                  11055 non-null  int64\n",
      " 22  Iframe                       11055 non-null  int64\n",
      " 23  age_of_domain                11055 non-null  int64\n",
      " 24  DNSRecord                    11055 non-null  int64\n",
      " 25  web_traffic                  11055 non-null  int64\n",
      " 26  Page_Rank                    11055 non-null  int64\n",
      " 27  Google_Index                 11055 non-null  int64\n",
      " 28  Links_pointing_to_page       11055 non-null  int64\n",
      " 29  Statistical_report           11055 non-null  int64\n",
      " 30  Result                       11055 non-null  int64\n",
      "dtypes: int64(31)\n",
      "memory usage: 2.6 MB\n",
      "None\n"
     ]
    }
   ],
   "source": [
    "df = pd.read_csv('../Network_Data/phisingData.csv')\n",
    "print(df.info())"
   ]
  },
  {
   "cell_type": "code",
   "execution_count": 10,
   "id": "66d1d559",
   "metadata": {},
   "outputs": [],
   "source": [
    "def get_numerical_columns(df):\n",
    "    return df.select_dtypes(include=['number']).columns.tolist()"
   ]
  },
  {
   "cell_type": "code",
   "execution_count": 7,
   "id": "aafa9fb5",
   "metadata": {},
   "outputs": [],
   "source": [
    "ans = get_numerical_columns(df)"
   ]
  },
  {
   "cell_type": "code",
   "execution_count": 9,
   "id": "4c480557",
   "metadata": {},
   "outputs": [
    {
     "data": {
      "text/plain": [
       "31"
      ]
     },
     "execution_count": 9,
     "metadata": {},
     "output_type": "execute_result"
    }
   ],
   "source": [
    "len(ans)"
   ]
  },
  {
   "cell_type": "code",
   "execution_count": 15,
   "id": "286303cc",
   "metadata": {},
   "outputs": [],
   "source": [
    "import yaml\n",
    "def count_numerical_columns(filepath):\n",
    "    with open(filepath,\"r\") as file:\n",
    "        schema = yaml.safe_load(file)\n",
    "    numerical_cols = schema.get('numerical_columns',[])\n",
    "    return len(numerical_cols)"
   ]
  },
  {
   "cell_type": "code",
   "execution_count": 16,
   "id": "9ea1dd3e",
   "metadata": {},
   "outputs": [
    {
     "data": {
      "text/plain": [
       "31"
      ]
     },
     "execution_count": 16,
     "metadata": {},
     "output_type": "execute_result"
    }
   ],
   "source": [
    "ans = count_numerical_columns(\"/Users/nabarundutta/Downloads/Projects/NetworkSecurity/data_schema/schema.yaml\")\n",
    "ans"
   ]
  },
  {
   "cell_type": "code",
   "execution_count": 27,
   "id": "2ca11513",
   "metadata": {},
   "outputs": [],
   "source": [
    "\n",
    "def is_numerical_column_present(dataframe:pd.DataFrame,filepath:str)->bool:\n",
    "    with open(filepath,\"r\") as file:\n",
    "        schema = yaml.safe_load(file)\n",
    "    numerical_cols = schema.get('numerical_columns',[])\n",
    "    an1 =  len(numerical_cols)\n",
    "    an2 = len(dataframe.select_dtypes(include=['number']).columns.tolist())\n",
    "    if an1==an2:\n",
    "        return True\n",
    "    else:\n",
    "        return False"
   ]
  },
  {
   "cell_type": "code",
   "execution_count": 28,
   "id": "0c3b4fc9",
   "metadata": {},
   "outputs": [],
   "source": [
    "ans = is_numerical_column_present(df, \"../data_schema/schema.yaml\")"
   ]
  },
  {
   "cell_type": "code",
   "execution_count": 29,
   "id": "df3abe72",
   "metadata": {},
   "outputs": [
    {
     "data": {
      "text/plain": [
       "True"
      ]
     },
     "execution_count": 29,
     "metadata": {},
     "output_type": "execute_result"
    }
   ],
   "source": [
    "ans"
   ]
  },
  {
   "cell_type": "code",
   "execution_count": 2,
   "id": "2394a19d",
   "metadata": {},
   "outputs": [],
   "source": [
    "import numpy as np \n",
    "a = np.ones(4)"
   ]
  },
  {
   "cell_type": "code",
   "execution_count": 3,
   "id": "2e0c5ee7",
   "metadata": {},
   "outputs": [
    {
     "data": {
      "text/plain": [
       "array([1., 1., 1., 1.])"
      ]
     },
     "execution_count": 3,
     "metadata": {},
     "output_type": "execute_result"
    }
   ],
   "source": [
    "a"
   ]
  },
  {
   "cell_type": "code",
   "execution_count": 4,
   "id": "d2e13bf0",
   "metadata": {},
   "outputs": [],
   "source": [
    "import os"
   ]
  },
  {
   "cell_type": "code",
   "execution_count": 5,
   "id": "fd7ebe0c",
   "metadata": {},
   "outputs": [],
   "source": [
    "def save_numpy_array_data(filepath:str,array:np.array):\n",
    "    try:\n",
    "        data_dir = os.path.dirname(filepath)\n",
    "        os.makedirs(data_dir,exist_ok=True)\n",
    "        with open(filepath,\"wb\") as file:\n",
    "            np.save(file,array)\n",
    "    \n",
    "    except Exception as e:\n",
    "        print(e)"
   ]
  },
  {
   "cell_type": "code",
   "execution_count": null,
   "id": "240a77b9",
   "metadata": {},
   "outputs": [],
   "source": []
  }
 ],
 "metadata": {
  "kernelspec": {
   "display_name": "Python 3",
   "language": "python",
   "name": "python3"
  },
  "language_info": {
   "codemirror_mode": {
    "name": "ipython",
    "version": 3
   },
   "file_extension": ".py",
   "mimetype": "text/x-python",
   "name": "python",
   "nbconvert_exporter": "python",
   "pygments_lexer": "ipython3",
   "version": "3.10.0"
  }
 },
 "nbformat": 4,
 "nbformat_minor": 5
}
